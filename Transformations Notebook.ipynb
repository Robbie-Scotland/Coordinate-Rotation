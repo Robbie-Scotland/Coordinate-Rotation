{
 "cells": [
  {
   "cell_type": "code",
   "execution_count": 20,
   "metadata": {},
   "outputs": [],
   "source": [
    "import matplotlib.pyplot as plt\n",
    "import numpy as np\n",
    "import math as m"
   ]
  },
  {
   "cell_type": "code",
   "execution_count": 21,
   "metadata": {},
   "outputs": [],
   "source": [
    "def create_matrix(raw):\n",
    "    \"\"\"Create an array of vectors representing the points of each line\"\"\"\n",
    "    my_array = np.array([[],[]])\n",
    "    for line in raw_data: # ((3, 2), (4, 3)   \n",
    "        x, y, w, z = *line[0], *line[1] \n",
    "        my_array = np.hstack((my_array, [[x, w], [y, z]]))\n",
    "\n",
    "    return my_array"
   ]
  },
  {
   "cell_type": "code",
   "execution_count": 22,
   "metadata": {},
   "outputs": [],
   "source": [
    "def find_extremis(matrix):\n",
    "    \"\"\"Finding the maximum and minimum x & y coordinates - required to determine the centre\n",
    "    of the points. This is designated as the centre of rotation\"\"\"\n",
    "    max_x = matrix[0].max()\n",
    "    min_x = matrix[0].min()\n",
    "    max_y = matrix[1].max()\n",
    "    min_y = matrix[1].min()\n",
    "            \n",
    "    return np.array([[min_x, max_x], [min_y, max_y]])"
   ]
  },
  {
   "cell_type": "code",
   "execution_count": 23,
   "metadata": {},
   "outputs": [],
   "source": [
    "def lsplit(matrix):\n",
    "    \"\"\"Splits the array of vectors into groups of two; each group of two vectors (points)\n",
    "    represents one line\"\"\"\n",
    "    mlist = []\n",
    "    for i in range(0, len(matrix[0]), 2):\n",
    "        mlist.append(matrix[:, i:i+2])\n",
    "    return mlist\n",
    "    "
   ]
  },
  {
   "cell_type": "code",
   "execution_count": 24,
   "metadata": {},
   "outputs": [],
   "source": [
    "def plot_lines(matrix, ax):\n",
    "    \"\"\"Plots series of isolated straight lines\"\"\"\n",
    "    matrices = lsplit(matrix)\n",
    "    for matrix in matrices: # plotting series of isolated straight lines\n",
    "        x, y = matrix[0], matrix[1]\n",
    "        ax.plot(x, y, color='blue')        \n",
    "    return"
   ]
  },
  {
   "cell_type": "code",
   "execution_count": 25,
   "metadata": {},
   "outputs": [],
   "source": [
    "def rotater_matrix(angle=0, radians=False):\n",
    "    \"\"\"Returns transformation matrix derived from angle of rotation. Assumes the origin to be \n",
    "    the centre of rotation. Angle fed in in degrees, negative = clockwise\"\"\"\n",
    "    if radians:\n",
    "        x = angle\n",
    "    else:\n",
    "        x = m.radians(angle)\n",
    "        \n",
    "    arr = np.array([m.cos(x), -m.sin(x), m.sin(x), m.cos(x)]).reshape(2, 2)\n",
    "    return np.around(arr, 2)\n"
   ]
  },
  {
   "cell_type": "code",
   "execution_count": 29,
   "metadata": {},
   "outputs": [],
   "source": [
    "def perform_transformation(matrix):\n",
    "    \"\"\"Offsets points to origin, performs the rotation by applying the transformation matrix \n",
    "    then offsets back to original location space\"\"\"\n",
    "    transformed = matrix.copy()\n",
    "    extremes = find_extremis(transformed)\n",
    "    centre_point = (extremes[:,0:1] + extremes[:,1:])/2 # need a variable name for this as it is used again at the end\n",
    "    transformed -= centre_point\n",
    "    theta = input('Input angle of rotation. Positive angle indicates anticlockwise rotation: ')\n",
    "    if theta == '':\n",
    "        theta = 90  \n",
    "    else:\n",
    "        theta = int(theta)\n",
    "    rotater = rotater_matrix(theta)\n",
    "    transformed = rotater.dot(transformed)\n",
    "    transformed += centre_point\n",
    "\n",
    "    return transformed\n"
   ]
  },
  {
   "cell_type": "code",
   "execution_count": 31,
   "metadata": {},
   "outputs": [],
   "source": [
    "raw_data = [[[4.0, 32.0], [8.0, 32.0]],\n",
    " [[4.0, 29.0], [4.0, 31.0]],\n",
    " [[8.0, 29.0], [8.0, 31.0]],\n",
    " [[4.0, 20.0], [8.0, 20.0]],\n",
    " [[8.0, 20.0], [8.0, 8.0]],\n",
    " [[8.0, 8.0], [4.0, 8.0]],\n",
    " [[4.0, 8.0], [4.0, 13.0]],\n",
    " [[4.0, 14.0], [4.0, 20.0]],\n",
    " [[12.0, 8.0], [12.0, 13.0]],\n",
    " [[12.0, 14.0], [12.0, 20.0]],\n",
    " [[12.0, 20.0], [16.0, 20.0]],\n",
    " [[16.0, 20.0], [16.0, 8.0]],\n",
    " [[16.0, 8.0], [12.0, 8.0]],\n",
    " [[4.0, 28.0], [8.0, 28.0]]]"
   ]
  },
  {
   "cell_type": "code",
   "execution_count": 30,
   "metadata": {},
   "outputs": [
    {
     "name": "stdout",
     "output_type": "stream",
     "text": [
      "Input angle of rotation. Positive angle indicates anticlockwise rotation: 80\n"
     ]
    },
    {
     "data": {
      "image/png": "[encoded data removed]",
      "text/plain": [
       "<Figure size 432x288 with 2 Axes>"
      ]
     },
     "metadata": {
      "needs_background": "light"
     },
     "output_type": "display_data"
    }
   ],
   "source": [
    "meta = create_matrix(raw_data)\n",
    "transformed_matrices = perform_transformation(meta)\n",
    "\n",
    "fig, axes = plt.subplots(sharex=True, sharey=True, nrows=1, ncols=2)\n",
    "\n",
    "plot_lines(meta, axes[0])\n",
    "plot_lines(transformed_matrices, axes[1])\n",
    "\n",
    "plt.tight_layout()"
   ]
  },
  {
   "cell_type": "code",
   "execution_count": null,
   "metadata": {},
   "outputs": [],
   "source": []
  }
 ],
 "metadata": {
  "kernelspec": {
   "display_name": "Python 3",
   "language": "python",
   "name": "python3"
  },
  "language_info": {
   "codemirror_mode": {
    "name": "ipython",
    "version": 3
   },
   "file_extension": ".py",
   "mimetype": "text/x-python",
   "name": "python",
   "nbconvert_exporter": "python",
   "pygments_lexer": "ipython3",
   "version": "3.7.4"
  }
 },
 "nbformat": 4,
 "nbformat_minor": 2
}
